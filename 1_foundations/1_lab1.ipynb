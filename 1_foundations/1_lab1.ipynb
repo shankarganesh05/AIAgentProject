{
 "cells": [
  {
   "cell_type": "markdown",
   "metadata": {},
   "source": [
    "# Welcome to the start of your adventure in Agentic AI"
   ]
  },
  {
   "cell_type": "markdown",
   "metadata": {},
   "source": [
    "<table style=\"margin: 0; text-align: left; width:100%\">\n",
    "    <tr>\n",
    "        <td style=\"width: 150px; height: 150px; vertical-align: middle;\">\n",
    "            <img src=\"../assets/stop.png\" width=\"150\" height=\"150\" style=\"display: block;\" />\n",
    "        </td>\n",
    "        <td>\n",
    "            <h2 style=\"color:#ff7800;\">Are you ready for action??</h2>\n",
    "            <span style=\"color:#ff7800;\">Have you completed all the setup steps in the <a href=\"../setup/\">setup</a> folder?<br/>\n",
    "            Have you checked out the guides in the <a href=\"../guides/01_intro.ipynb\">guides</a> folder?<br/>\n",
    "            Well in that case, you're ready!!\n",
    "            </span>\n",
    "        </td>\n",
    "    </tr>\n",
    "</table>"
   ]
  },
  {
   "cell_type": "markdown",
   "metadata": {},
   "source": [
    "<table style=\"margin: 0; text-align: left; width:100%\">\n",
    "    <tr>\n",
    "        <td style=\"width: 150px; height: 150px; vertical-align: middle;\">\n",
    "            <img src=\"../assets/tools.png\" width=\"150\" height=\"150\" style=\"display: block;\" />\n",
    "        </td>\n",
    "        <td>\n",
    "            <h2 style=\"color:#00bfff;\">This code is a live resource - keep an eye out for my updates</h2>\n",
    "            <span style=\"color:#00bfff;\">I push updates regularly. As people ask questions or have problems, I add more examples and improve explanations. As a result, the code below might not be identical to the videos, as I've added more steps and better comments. Consider this like an interactive book that accompanies the lectures.<br/><br/>\n",
    "            I try to send emails regularly with important updates related to the course. You can find this in the 'Announcements' section of Udemy in the left sidebar. You can also choose to receive my emails via your Notification Settings in Udemy. I'm respectful of your inbox and always try to add value with my emails!\n",
    "            </span>\n",
    "        </td>\n",
    "    </tr>\n",
    "</table>"
   ]
  },
  {
   "cell_type": "markdown",
   "metadata": {},
   "source": [
    "### And please do remember to contact me if I can help\n",
    "\n",
    "And I love to connect: https://www.linkedin.com/in/eddonner/\n",
    "\n",
    "\n",
    "### New to Notebooks like this one? Head over to the guides folder!\n",
    "\n",
    "Just to check you've already added the Python and Jupyter extensions to Cursor, if not already installed:\n",
    "- Open extensions (View >> extensions)\n",
    "- Search for python, and when the results show, click on the ms-python one, and Install it if not already installed\n",
    "- Search for jupyter, and when the results show, click on the Microsoft one, and Install it if not already installed  \n",
    "Then View >> Explorer to bring back the File Explorer.\n",
    "\n",
    "And then:\n",
    "1. Click where it says \"Select Kernel\" near the top right, and select the option called `.venv (Python 3.12.9)` or similar, which should be the first choice or the most prominent choice. You may need to choose \"Python Environments\" first.\n",
    "2. Click in each \"cell\" below, starting with the cell immediately below this text, and press Shift+Enter to run\n",
    "3. Enjoy!\n",
    "\n",
    "After you click \"Select Kernel\", if there is no option like `.venv (Python 3.12.9)` then please do the following:  \n",
    "1. On Mac: From the Cursor menu, choose Settings >> VS Code Settings (NOTE: be sure to select `VSCode Settings` not `Cursor Settings`);  \n",
    "On Windows PC: From the File menu, choose Preferences >> VS Code Settings(NOTE: be sure to select `VSCode Settings` not `Cursor Settings`)  \n",
    "2. In the Settings search bar, type \"venv\"  \n",
    "3. In the field \"Path to folder with a list of Virtual Environments\" put the path to the project root, like C:\\Users\\username\\projects\\agents (on a Windows PC) or /Users/username/projects/agents (on Mac or Linux).  \n",
    "And then try again.\n",
    "\n",
    "Having problems with missing Python versions in that list? Have you ever used Anaconda before? It might be interferring. Quit Cursor, bring up a new command line, and make sure that your Anaconda environment is deactivated:    \n",
    "`conda deactivate`  \n",
    "And if you still have any problems with conda and python versions, it's possible that you will need to run this too:  \n",
    "`conda config --set auto_activate_base false`  \n",
    "and then from within the Agents directory, you should be able to run `uv python list` and see the Python 3.12 version."
   ]
  },
  {
   "cell_type": "code",
   "execution_count": 1,
   "metadata": {},
   "outputs": [],
   "source": [
    "# First let's do an import\n",
    "from dotenv import load_dotenv\n"
   ]
  },
  {
   "cell_type": "code",
   "execution_count": 2,
   "metadata": {},
   "outputs": [
    {
     "data": {
      "text/plain": [
       "True"
      ]
     },
     "execution_count": 2,
     "metadata": {},
     "output_type": "execute_result"
    }
   ],
   "source": [
    "# Next it's time to load the API keys into environment variables\n",
    "\n",
    "load_dotenv(override=True)"
   ]
  },
  {
   "cell_type": "code",
   "execution_count": 3,
   "metadata": {},
   "outputs": [
    {
     "name": "stdout",
     "output_type": "stream",
     "text": [
      "OpenAI API Key exists and begins sk-proj-\n"
     ]
    }
   ],
   "source": [
    "# Check the keys\n",
    "\n",
    "import os\n",
    "openai_api_key = os.getenv('OPENAI_API_KEY')\n",
    "\n",
    "if openai_api_key:\n",
    "    print(f\"OpenAI API Key exists and begins {openai_api_key[:8]}\")\n",
    "else:\n",
    "    print(\"OpenAI API Key not set - please head to the troubleshooting guide in the setup folder\")\n",
    "    \n"
   ]
  },
  {
   "cell_type": "code",
   "execution_count": 4,
   "metadata": {},
   "outputs": [],
   "source": [
    "# And now - the all important import statement\n",
    "# If you get an import error - head over to troubleshooting guide\n",
    "\n",
    "from openai import OpenAI"
   ]
  },
  {
   "cell_type": "code",
   "execution_count": 5,
   "metadata": {},
   "outputs": [],
   "source": [
    "# And now we'll create an instance of the OpenAI class\n",
    "# If you're not sure what it means to create an instance of a class - head over to the guides folder!\n",
    "# If you get a NameError - head over to the guides folder to learn about NameErrors\n",
    "\n",
    "openai = OpenAI()"
   ]
  },
  {
   "cell_type": "code",
   "execution_count": 7,
   "metadata": {},
   "outputs": [],
   "source": [
    "# Create a list of messages in the familiar OpenAI format\n",
    "\n",
    "messages = [{\"role\": \"user\", \"content\": \"What is 2+2?\"}]"
   ]
  },
  {
   "cell_type": "code",
   "execution_count": null,
   "metadata": {},
   "outputs": [],
   "source": [
    "# And now call it! Any problems, head to the troubleshooting guide\n",
    "# This uses GPT 4.1 nano, the incredibly cheap model\n",
    "\n",
    "response = openai.chat.completions.create(\n",
    "    model=\"gpt-4.1-nano\",\n",
    "    messages=messages\n",
    ")\n",
    "\n",
    "print(response.choices[0].message.content)\n"
   ]
  },
  {
   "cell_type": "code",
   "execution_count": 6,
   "metadata": {},
   "outputs": [],
   "source": [
    "# And now - let's ask for a question:\n",
    "\n",
    "question = \"Please propose a hard, challenging question to assess someone's IQ. Respond only with the question.\"\n",
    "messages = [{\"role\": \"user\", \"content\": question}]\n"
   ]
  },
  {
   "cell_type": "code",
   "execution_count": 7,
   "metadata": {},
   "outputs": [
    {
     "name": "stdout",
     "output_type": "stream",
     "text": [
      "If it takes 5 machines 5 minutes to make 5 widgets, how long would it take 100 machines to make 100 widgets?\n"
     ]
    }
   ],
   "source": [
    "# ask it - this uses GPT 4.1 mini, still cheap but more powerful than nano\n",
    "\n",
    "response = openai.chat.completions.create(\n",
    "    model=\"gpt-4.1-mini\",\n",
    "    messages=messages\n",
    ")\n",
    "\n",
    "question = response.choices[0].message.content\n",
    "\n",
    "print(question)\n"
   ]
  },
  {
   "cell_type": "code",
   "execution_count": 8,
   "metadata": {},
   "outputs": [],
   "source": [
    "# form a new messages list\n",
    "messages = [{\"role\": \"user\", \"content\": question}]\n"
   ]
  },
  {
   "cell_type": "code",
   "execution_count": 9,
   "metadata": {},
   "outputs": [
    {
     "name": "stdout",
     "output_type": "stream",
     "text": [
      "Let's analyze the problem step-by-step:\n",
      "\n",
      "**Given:**\n",
      "- 5 machines take 5 minutes to make 5 widgets.\n",
      "\n",
      "**Step 1: Find the production rate per machine**\n",
      "\n",
      "If 5 machines make 5 widgets in 5 minutes, then:\n",
      "\n",
      "- Total widgets made = 5\n",
      "- Total time = 5 minutes\n",
      "- So, the rate of all 5 machines combined = 5 widgets / 5 minutes = 1 widget per minute.\n",
      "\n",
      "Since 5 machines make 1 widget per minute together, each machine makes:\n",
      "\n",
      "- \\( \\frac{1 \\text{ widget per minute}}{5 \\text{ machines}} = \\frac{1}{5} \\) widgets per minute.\n",
      "\n",
      "**Step 2: Calculate the time for 100 machines to make 100 widgets**\n",
      "\n",
      "Each machine makes \\(\\frac{1}{5}\\) widgets per minute.\n",
      "\n",
      "Therefore, 100 machines make:\n",
      "\n",
      "- \\( 100 \\times \\frac{1}{5} = 20 \\) widgets per minute.\n",
      "\n",
      "To make 100 widgets:\n",
      "\n",
      "- Time = \\( \\frac{100 \\text{ widgets}}{20 \\text{ widgets per minute}} = 5 \\) minutes.\n",
      "\n",
      "**Answer:**\n",
      "\n",
      "It would take **5 minutes** for 100 machines to make 100 widgets.\n"
     ]
    }
   ],
   "source": [
    "# Ask it again\n",
    "\n",
    "response = openai.chat.completions.create(\n",
    "    model=\"gpt-4.1-mini\",\n",
    "    messages=messages\n",
    ")\n",
    "\n",
    "answer = response.choices[0].message.content\n",
    "print(answer)\n"
   ]
  },
  {
   "cell_type": "code",
   "execution_count": 10,
   "metadata": {},
   "outputs": [
    {
     "data": {
      "text/markdown": [
       "Let's analyze the problem step-by-step:\n",
       "\n",
       "**Given:**\n",
       "- 5 machines take 5 minutes to make 5 widgets.\n",
       "\n",
       "**Step 1: Find the production rate per machine**\n",
       "\n",
       "If 5 machines make 5 widgets in 5 minutes, then:\n",
       "\n",
       "- Total widgets made = 5\n",
       "- Total time = 5 minutes\n",
       "- So, the rate of all 5 machines combined = 5 widgets / 5 minutes = 1 widget per minute.\n",
       "\n",
       "Since 5 machines make 1 widget per minute together, each machine makes:\n",
       "\n",
       "- \\( \\frac{1 \\text{ widget per minute}}{5 \\text{ machines}} = \\frac{1}{5} \\) widgets per minute.\n",
       "\n",
       "**Step 2: Calculate the time for 100 machines to make 100 widgets**\n",
       "\n",
       "Each machine makes \\(\\frac{1}{5}\\) widgets per minute.\n",
       "\n",
       "Therefore, 100 machines make:\n",
       "\n",
       "- \\( 100 \\times \\frac{1}{5} = 20 \\) widgets per minute.\n",
       "\n",
       "To make 100 widgets:\n",
       "\n",
       "- Time = \\( \\frac{100 \\text{ widgets}}{20 \\text{ widgets per minute}} = 5 \\) minutes.\n",
       "\n",
       "**Answer:**\n",
       "\n",
       "It would take **5 minutes** for 100 machines to make 100 widgets."
      ],
      "text/plain": [
       "<IPython.core.display.Markdown object>"
      ]
     },
     "metadata": {},
     "output_type": "display_data"
    }
   ],
   "source": [
    "from IPython.display import Markdown, display\n",
    "\n",
    "display(Markdown(answer))\n",
    "\n"
   ]
  },
  {
   "cell_type": "markdown",
   "metadata": {},
   "source": [
    "# Congratulations!\n",
    "\n",
    "That was a small, simple step in the direction of Agentic AI, with your new environment!\n",
    "\n",
    "Next time things get more interesting..."
   ]
  },
  {
   "cell_type": "code",
   "execution_count": null,
   "metadata": {},
   "outputs": [],
   "source": []
  },
  {
   "cell_type": "code",
   "execution_count": null,
   "metadata": {},
   "outputs": [],
   "source": []
  },
  {
   "cell_type": "markdown",
   "metadata": {},
   "source": [
    "<table style=\"margin: 0; text-align: left; width:100%\">\n",
    "    <tr>\n",
    "        <td style=\"width: 150px; height: 150px; vertical-align: middle;\">\n",
    "            <img src=\"../assets/exercise.png\" width=\"150\" height=\"150\" style=\"display: block;\" />\n",
    "        </td>\n",
    "        <td>\n",
    "            <h2 style=\"color:#ff7800;\">Exercise</h2>\n",
    "            <span style=\"color:#ff7800;\">Now try this commercial application:<br/>\n",
    "            First ask the LLM to pick a business area that might be worth exploring for an Agentic AI opportunity.<br/>\n",
    "            Then ask the LLM to present a pain-point in that industry - something challenging that might be ripe for an Agentic solution.<br/>\n",
    "            Finally have 3 third LLM call propose the Agentic AI solution.\n",
    "            </span>\n",
    "        </td>\n",
    "    </tr>\n",
    "</table>"
   ]
  },
  {
   "cell_type": "code",
   "execution_count": 17,
   "metadata": {},
   "outputs": [
    {
     "data": {
      "text/markdown": [
       "One promising business area for an Agentic AI opportunity is **Personalized Career Coaching and Talent Development**.\n",
       "\n",
       "### Why this area?\n",
       "\n",
       "- **Complex, dynamic goals:** Career development involves multifaceted goals, evolving skills, and adapting to changing job markets—ideal for an AI that can set, adjust, and pursue goals autonomously.\n",
       "- **Continuous decision-making:** An agentic AI can analyze user data, identify skill gaps, suggest learning pathways, recommend job opportunities, and even simulate career outcomes.\n",
       "- **Personalized interactions:** Unlike static recommendation engines, an agentic AI can proactively engage with users, initiate career check-ins, and adjust plans in real-time.\n",
       "- **Market demand:** There is growing demand for personalized coaching as individuals seek ways to stay competitive in rapidly evolving industries.\n",
       "\n",
       "### Potential features of an Agentic AI in this space:\n",
       "\n",
       "- **Autonomous goal-setting:** Establish career milestones based on user input, market trends, and skill assessments.\n",
       "- **Proactive learning management:** Curate and schedule educational content, certifications, and skill-building exercises.\n",
       "- **Job market navigation:** Monitor job openings and company changes, recommending tailored opportunities.\n",
       "- **Networking strategy:** Suggest connections, events, and mentorship opportunities aligned with career goals.\n",
       "- **Performance feedback:** Analyze work outputs and provide continuous improvement advice.\n",
       "\n",
       "This creates opportunities for subscription models, enterprise partnerships (e.g., with HR departments), and integration with existing platforms like LinkedIn or learning management systems.\n",
       "\n",
       "Would you like me to help brainstorm specific product features or go-to-market strategies for this idea?"
      ],
      "text/plain": [
       "<IPython.core.display.Markdown object>"
      ]
     },
     "metadata": {},
     "output_type": "display_data"
    }
   ],
   "source": [
    "# First create the messages:\n",
    "\n",
    "question = \"pick a business area that might be worth exploring for an Agentic AI opportunity\"\n",
    "\n",
    "messages = [{\"role\": \"user\", \"content\": question}]\n",
    "\n",
    "# Then make the first call:\n",
    "\n",
    "response = openai.chat.completions.create(\n",
    "    model=\"gpt-4.1-mini\",\n",
    "    messages=messages\n",
    ")\n",
    "\n",
    "# Then read the business idea:\n",
    "\n",
    "business_idea = response.choices[0].message.content\n",
    "\n",
    "# And repeat!\n",
    "display(Markdown(business_idea))"
   ]
  },
  {
   "cell_type": "code",
   "execution_count": 18,
   "metadata": {},
   "outputs": [
    {
     "data": {
      "text/markdown": [
       "Certainly! Here are some key pain points in **Personalized Career Coaching and Talent Development** that an Agentic AI could address effectively:\n",
       "\n",
       "### Pain Points Agentic AI Could Solve\n",
       "\n",
       "1. **Lack of Personalized, Dynamic Guidance**\n",
       "   - Traditional career coaching is often one-size-fits-all or limited to infrequent human interactions.\n",
       "   - Static recommendation engines don’t adapt in real-time to a user’s evolving goals, skills, or market changes.\n",
       "   - Agentic AI can continuously track progress, reevaluate goals, and tailor advice dynamically.\n",
       "\n",
       "2. **Information Overload & Decision Fatigue**\n",
       "   - Job seekers and employees face overwhelming choices: learning resources, certifications, roles, and networking options.\n",
       "   - It’s hard to prioritize which skills to develop or which opportunities to pursue.\n",
       "   - An agentic AI can autonomously filter, prioritize, and schedule personalized learning and career actions.\n",
       "\n",
       "3. **Difficulty Navigating Rapid Job Market Changes**\n",
       "   - New roles and skill demands emerge frequently in fast-changing industries.\n",
       "   - Human coaches or static tools struggle to stay current with trending skills or opportunities.\n",
       "   - Agentic AI can monitor labor market data, competitor moves, and company news to proactively advise users.\n",
       "\n",
       "4. **Limited Access to Career Coaching**\n",
       "   - Professional coaching services can be expensive and inaccessible to many.\n",
       "   - Many employees or job seekers lack ongoing support between coaching sessions.\n",
       "   - An AI agent can provide affordable, 24/7 coaching and guidance.\n",
       "\n",
       "5. **Challenges with Accountability and Motivation**\n",
       "   - Users often struggle to stick with career plans, complete learning paths, or follow through on goals.\n",
       "   - Lack of proactive reminders and adjustments leads to drop-off.\n",
       "   - Agentic AI’s autonomous nudging, check-ins, and adaptive goal revisions help maintain engagement and momentum.\n",
       "\n",
       "6. **Inefficient Networking and Mentorship Matching**\n",
       "   - Identifying the right people to connect with or mentors to approach can be difficult without guidance.\n",
       "   - Poorly targeted networking efforts waste time and reduce effectiveness.\n",
       "   - AI can suggest meaningful connections, facilitate introductions, and recommend relevant events.\n",
       "\n",
       "7. **Insufficient Integration Across Platforms**\n",
       "   - Users track career activities across varied platforms (LinkedIn, LMS, job boards) in silos.\n",
       "   - Lack of integration prevents holistic insights or seamless action plans.\n",
       "   - An agentic AI can unify data sources to create a coherent career development experience.\n",
       "\n",
       "8. **Limited Performance Feedback in Work Contexts**\n",
       "   - Employees frequently receive delayed or generic performance reviews.\n",
       "   - Lack of actionable, real-time feedback hinders continuous improvement.\n",
       "   - AI-powered analysis of work outputs or peer feedback can provide continuous, personalized suggestions.\n",
       "\n",
       "---\n",
       "\n",
       "### Summary\n",
       "\n",
       "These pain points highlight how an agentic AI’s proactive, adaptive, and integrated approach to personalized career coaching can deliver significant value by addressing real, unmet user needs. Let me know if you want to explore solutions, product features, or go-to-market strategies tailored to these challenges!"
      ],
      "text/plain": [
       "<IPython.core.display.Markdown object>"
      ]
     },
     "metadata": {},
     "output_type": "display_data"
    }
   ],
   "source": [
    "question = \"Whar are the pain points in \" + business_idea + \" that an Agentic AI could solve?\"\n",
    "messages = [{\"role\": \"user\", \"content\": question}]\n",
    "response = openai.chat.completions.create(\n",
    "    model=\"gpt-4.1-mini\",\n",
    "    messages=messages\n",
    ")\n",
    "pain_points = response.choices[0].message.content\n",
    "display(Markdown(pain_points))"
   ]
  },
  {
   "cell_type": "code",
   "execution_count": 19,
   "metadata": {},
   "outputs": [
    {
     "data": {
      "text/markdown": [
       "Certainly! Here’s a comprehensive **Agentic AI Solution** designed specifically to tackle these pain points in **Personalized Career Coaching and Talent Development**. This solution leverages autonomous AI agents capable of continuous learning, decision-making, user interaction, and integration with external data sources:\n",
       "\n",
       "---\n",
       "\n",
       "## Agentic AI Solution: CareerPath Navigator\n",
       "\n",
       "### Core Architecture & Capabilities\n",
       "\n",
       "1. **Dynamic User Modeling & Goal Management**\n",
       "   - The AI builds a rich, evolving profile of each user’s skills, experiences, learning history, preferences, and career ambitions.\n",
       "   - Uses real-time feedback loops: progress updates, self-assessments, work outputs, and market signals to update personalized goals.\n",
       "   - Goals are dynamically refined as user’s context, interests, or market demands change.\n",
       "\n",
       "2. **Autonomous Prioritization & Scheduling Engine**\n",
       "   - Understands which skills or certifications have the highest ROI (return on investment) for user goals.\n",
       "   - Filters thousands of learning modules, job postings, networking events, and mentors.\n",
       "   - Creates prioritized weekly/monthly action plans and learning itineraries.\n",
       "   - Auto-schedules reminders, micro-learning bursts, and feedback checkpoints.\n",
       "\n",
       "3. **Real-time Labor Market and Trend Monitoring**\n",
       "   - Continuously ingests labor market APIs, job postings data, industry news, company movements, and emerging skill sets via NLP.\n",
       "   - Identifies evolving skill demand, new job roles, and competitor trends relevant to user aspirations.\n",
       "   - Proactively suggests pivots or skill upgrades to keep users competitive.\n",
       "\n",
       "4. **24/7 AI Coaching Chatbot with Human Escalation**\n",
       "   - Interactive, empathetic conversational AI provides personalized coaching advice, motivation boosts, question answering, and reflection prompts.\n",
       "   - Detects engagement drop-off or emotional signals and escalates to human coaches or peer support communities as needed.\n",
       "   - Offers affordable premium or subscription tiers with human expert integration.\n",
       "\n",
       "5. **Behavioral Nudges & Adaptive Motivation System**\n",
       "   - Uses psychology-backed nudges, gamification, and reward systems to reinforce positive behaviors.\n",
       "   - Sends contextual, timely reminders and adapts nudging strategies according to the user's motivation profile.\n",
       "   - Includes reflection and journaling prompts to deepen commitment and self-awareness.\n",
       "\n",
       "6. **Networking and Mentorship Matchmaking Agent**\n",
       "   - Leverages graph-based AI to identify high-value connections within user’s network and recommended external mentors.\n",
       "   - Facilitates introductions via smart messaging templates, schedules virtual coffee chats or group events.\n",
       "   - Scores and ranks networking opportunities by relevance, availability, and mutual goals.\n",
       "\n",
       "7. **Unified Multi-Platform Integration Hub**\n",
       "   - Connects and synchronizes data from LinkedIn, Learning Management Systems (LMS), job boards, calendar apps, performance management tools, and communication platforms.\n",
       "   - Offers holistic dashboards for users and managers, highlighting development progress, upcoming actions, and insights.\n",
       "   - Ensures seamless data privacy, security compliance, and user control over sharing preferences.\n",
       "\n",
       "8. **Continuous Performance Feedback Module**\n",
       "   - Analyzes work outputs such as reports, code commits, presentations, or sales results through AI-driven NLP and analytics.\n",
       "   - Aggregates peer and manager feedback with sentiment analysis and relevance filtering.\n",
       "   - Provides actionable, timely recommendations to improve skills or behaviors linked to career goals.\n",
       "\n",
       "---\n",
       "\n",
       "## Example Use Case Flow\n",
       "\n",
       "1. **Initial Onboarding and Assessment**\n",
       "   - User interacts with CareerPath Navigator chatbot, shares career aspirations and skill levels.\n",
       "   - AI agent imports data from LinkedIn, LMS courses, and performance reviews.\n",
       "   - Personalized dynamic career roadmap is created.\n",
       "\n",
       "2. **Weekly Adaptive Planning**\n",
       "   - AI continuously updates priority skills and suggests learning modules, certifications, and networking.\n",
       "   - User receives nudges and motivation tailored to their rhythm and engagement level.\n",
       "\n",
       "3. **Market Intelligence-Driven Coaching**\n",
       "   - On detecting a rising demand for a new technology in the user's field, the AI recommends pivot options and necessary skill acquisitions.\n",
       "   - Suggests mentors or peers who have expertise in these new areas.\n",
       "\n",
       "4. **Networking & Mentorship Facilitation**\n",
       "   - AI identifies 3 ideal mentors, schedules intro chats, and tracks networking outcomes.\n",
       "   - Provides conversation starters and follow-up reminders.\n",
       "\n",
       "5. **Real-Time Feedback & Career Progress Tracking**\n",
       "   - Monitors work quality and peer reviews, surfaces personalized improvement tips.\n",
       "   - Updates career path if goals or interests evolve.\n",
       "\n",
       "---\n",
       "\n",
       "## Benefits & Impact\n",
       "\n",
       "- **Users** gain continuous, adaptive, highly personalized career guidance at a fraction of the cost.\n",
       "- **Organizations** see increased employee engagement, improved skill alignment with business needs, more effective talent development pipelines, and better internal mobility.\n",
       "- **Coaches and mentors** are empowered with AI tools to better prioritize and extend their impact.\n",
       "\n",
       "---\n",
       "\n",
       "If you wish, I can help draft potential product features, MVP scope, or go-to-market strategies next!"
      ],
      "text/plain": [
       "<IPython.core.display.Markdown object>"
      ]
     },
     "metadata": {},
     "output_type": "display_data"
    }
   ],
   "source": [
    "question = \"Propose a Agentic AI Solution to solve the pain points: \" + pain_points\n",
    "messages = [{\"role\": \"user\", \"content\": question}]\n",
    "response = openai.chat.completions.create(\n",
    "    model=\"gpt-4.1-mini\",\n",
    "    messages=messages\n",
    ")\n",
    "ai_solution = response.choices[0].message.content\n",
    "#print(ai_solution)\n",
    "display(Markdown(ai_solution))"
   ]
  },
  {
   "cell_type": "code",
   "execution_count": null,
   "metadata": {},
   "outputs": [],
   "source": []
  },
  {
   "cell_type": "markdown",
   "metadata": {},
   "source": []
  }
 ],
 "metadata": {
  "kernelspec": {
   "display_name": ".venv",
   "language": "python",
   "name": "python3"
  },
  "language_info": {
   "codemirror_mode": {
    "name": "ipython",
    "version": 3
   },
   "file_extension": ".py",
   "mimetype": "text/x-python",
   "name": "python",
   "nbconvert_exporter": "python",
   "pygments_lexer": "ipython3",
   "version": "3.12.10"
  }
 },
 "nbformat": 4,
 "nbformat_minor": 2
}
