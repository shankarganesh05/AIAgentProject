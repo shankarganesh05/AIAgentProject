{
 "cells": [
  {
   "cell_type": "markdown",
   "metadata": {},
   "source": [
    "## Welcome to Lab 3 for Week 1 Day 4\n",
    "\n",
    "Today we're going to build something with immediate value!\n",
    "\n",
    "In the folder `me` I've put a single file `linkedin.pdf` - it's a PDF download of my LinkedIn profile.\n",
    "\n",
    "Please replace it with yours!\n",
    "\n",
    "I've also made a file called `summary.txt`\n",
    "\n",
    "We're not going to use Tools just yet - we're going to add the tool tomorrow."
   ]
  },
  {
   "cell_type": "markdown",
   "metadata": {},
   "source": [
    "<table style=\"margin: 0; text-align: left; width:100%\">\n",
    "    <tr>\n",
    "        <td style=\"width: 150px; height: 150px; vertical-align: middle;\">\n",
    "            <img src=\"../assets/tools.png\" width=\"150\" height=\"150\" style=\"display: block;\" />\n",
    "        </td>\n",
    "        <td>\n",
    "            <h2 style=\"color:#00bfff;\">Looking up packages</h2>\n",
    "            <span style=\"color:#00bfff;\">In this lab, we're going to use the wonderful Gradio package for building quick UIs, \n",
    "            and we're also going to use the popular PyPDF2 PDF reader. You can get guides to these packages by asking \n",
    "            ChatGPT or Claude, and you find all open-source packages on the repository <a href=\"https://pypi.org\">https://pypi.org</a>.\n",
    "            </span>\n",
    "        </td>\n",
    "    </tr>\n",
    "</table>"
   ]
  },
  {
   "cell_type": "code",
   "execution_count": 5,
   "metadata": {},
   "outputs": [],
   "source": [
    "# If you don't know what any of these packages do - you can always ask ChatGPT for a guide!\n",
    "\n",
    "from dotenv import load_dotenv\n",
    "from openai import OpenAI\n",
    "from pypdf import PdfReader\n",
    "import gradio as gr"
   ]
  },
  {
   "cell_type": "code",
   "execution_count": 6,
   "metadata": {},
   "outputs": [],
   "source": [
    "load_dotenv(override=True)\n",
    "openai = OpenAI()"
   ]
  },
  {
   "cell_type": "code",
   "execution_count": 7,
   "metadata": {},
   "outputs": [],
   "source": [
    "reader = PdfReader(\"me/Profile.pdf\")\n",
    "linkedin = \"\"\n",
    "for page in reader.pages:\n",
    "    text = page.extract_text()\n",
    "    if text:\n",
    "        linkedin += text"
   ]
  },
  {
   "cell_type": "code",
   "execution_count": 8,
   "metadata": {},
   "outputs": [
    {
     "name": "stdout",
     "output_type": "stream",
     "text": [
      "   \n",
      "Contact\n",
      "shankarganesh.d@gmail.com\n",
      "www.linkedin.com/in/\n",
      "shankarganesh-d (LinkedIn)\n",
      "Top Skills\n",
      "SQL\n",
      "Amazon Athena\n",
      "Market Research\n",
      "Certifications\n",
      "Python Functions for Data Science \n",
      "Deloitte Australia - Data Analytics\n",
      "Job Simulation\n",
      "SQL Intermediate\n",
      "AWS Cloud Quest: Cloud\n",
      "Practitioner\n",
      "Data Science On Cloud\n",
      "SHANKARGANESH\n",
      "DORAISWAMY\n",
      "Innovative Global Program Leader at the Nexus of Telecom & Cloud\n",
      "Technologies | Driving High-Performance Network Solutions\n",
      "Bengaluru, Karnataka, India\n",
      "Summary\n",
      "As a seasoned Global Project Leader at the intersection of Telecom\n",
      "and Cloud technologies, my career has been characterized by\n",
      "driving transformative initiatives that redefine industry standards\n",
      "and yield multimillion-dollar revenue streams. With a relentless\n",
      "commitment to innovation, project excellence, and strategic\n",
      "leadership, I have spearheaded groundbreaking achievements\n",
      "in 5G, LTE, and ORAN solutions, positioning organizations at the\n",
      "forefront of technological advancement.\n",
      "Throughout my career, I have cultivated strong leadership skills by\n",
      "guiding cross-functional teams through complex telecom and cloud\n",
      "projects, fostering collaboration and inspiring excellence. I possess\n",
      "the ability to think strategically and envision long-term goals while\n",
      "devising and executing tactical plans to achieve them, ensuring\n",
      "alignment with organizational objectives. \n",
      "My problem-solving skills have been honed through the\n",
      "identification and resolution of challenges in project execution,\n",
      "system optimization, and customer service. This has led to the\n",
      "development of innovative solutions and enhanced efficiency\n",
      "across various projects across US and India. Additionally, my\n",
      "refined communication skills enable me to effectively convey\n",
      "complex technical concepts to diverse stakeholders, fostering clear\n",
      "understanding and collaboration across teams and departments.\n",
      "✓ Achieved 90% improvement in feature build accuracy by\n",
      "delivering the initial MVP on time and leveraged scrum-based agile\n",
      "methodologies to foster a focused environment for efficient task\n",
      "execution, which led to significant cost savings.\n",
      "✓ Won the $1.4B T-Mobile network consolidation RFP through\n",
      "leadership in cross-functional team collaboration, ensuring market\n",
      "  Page 1 of 8   \n",
      "share retention and solidifying Nokia's position as a leading 5G\n",
      "provider in North America.\n",
      "✓ Secured 50% increase in 5G user engagement, 37% improvement\n",
      "in spectral efficiency, and a potential nationwide business\n",
      "opportunity valued at $1.5M while leading the first-of-its-kind 5G\n",
      "optimization service for Nokia.\n",
      "✓ Attained $500K quarterly OPEX reduction while leading Kaizen-\n",
      "driven program migration of repeatable tasks to remote teams,\n",
      "enhanced delivery quality & speed, and empower engineers to focus\n",
      "on network optimization and upselling.\n",
      "Core Competencies include:\n",
      "Engineering Management | Project Management | Strategy Planning\n",
      "& Execution | Software Development | VPP Development Leadership\n",
      "| Digital Transformation | Cloud-Native Architecture | Cross-\n",
      "Functional Collaboration | New Product Launch\n",
      "shankarganesh.d@gmail.com\n",
      "Experience\n",
      "Nokia\n",
      "15 years 4 months\n",
      "Technical Program Leader | Engineering Management | Product\n",
      "Management | ORAN RT-RIC/VPP R&D\n",
      "June 2021 - Present (4 years 1 month)\n",
      "Bengaluru, Karnataka, India\n",
      "80% DEPLOYMENT FAULTS REDUCTION | 90% FEATURE BUILD\n",
      "ACCURACY | AGILE METHODOLOGIES\n",
      "Provided leadership to operational squads, removed obstacles, allocated\n",
      "resources, and established efficient processes to drive smooth operations and\n",
      "high-quality delivery. Implemented critical applications for the Real-Time RIC\n",
      "components of the Open RAN (ORAN) architecture leveraged Kubernetes\n",
      "& Docker containerization for efficient deployment and scalability. Led the\n",
      "entire VPP product development lifecycle from concept to commercialization,\n",
      "leading a team within R&D to design, implement, and deliver a high-\n",
      "performance, scalable, and user-friendly solution that met demanding technical\n",
      "requirements.\n",
      "  Page 2 of 8   \n",
      " Attained 10% reduction in defects, 35% faster fault correction time, 90%\n",
      "feature build accuracy per sprint, and 95% feature completion rate per release,\n",
      "boosting team confidence in bug resolution during development and entity\n",
      "testing.\n",
      " Secured 80% reduction in deployment faults and the successful transition\n",
      "of R&D support mode from mandatory to an as-needed basis, thus improving\n",
      "collaboration and problem-solving between R&D and Customer Services\n",
      "teams. \n",
      " Achieved 90% improvement in feature build accuracy by delivering the initial\n",
      "MVP on time and leveraged scrum-based agile methodologies to foster a\n",
      "focused environment for efficient task execution, which led to significant cost\n",
      "savings.\n",
      " Exceeded project goals by achieving sub-0.7-second latency with 5,000\n",
      "simulated units, seamlessly integrating with a third-party GUI for user\n",
      "interaction and control while flawlessly executing a VPP product demo.\n",
      " Pioneered an innovative mobile network solution by developing a Machine\n",
      "Learning MRO  xAPP to enhance radio link ,culminating in the successful\n",
      "launch of the VPP product at Mobile World Congress-2024.\n",
      "CORE EXPERTISE: Engineering Management | Product Management |\n",
      "Agile Methodologies | Quality Assurance and Testing | Collaboration and\n",
      "Communication | Innovation and Problem-Solving\n",
      "Technical Solutions Head | Services Portfolio Solution (Deploy &\n",
      "Network Cognitive Services)\n",
      "March 2020 - June 2021 (1 year 4 months)\n",
      "Bellevue, Washington, United States\n",
      "$1.5M BUSINESS SECURED | 50% 5G USER ENGAGEMENT INCREASED |\n",
      "MULTI-MILLION DOLLAR PROJECTS\n",
      "Directed a team of Solution Architects, Service Solution Managers (SSMs),\n",
      "and Subject Matter Experts (SMEs) for all service delivery aspects. Ensured\n",
      "adherence to standard procedures for E2E deployment of mobile network\n",
      "radio products and networks (Deploy+NCS). Leveraged data collection and\n",
      "analysis through drive testing and log analysis to optimize network parameters\n",
      "for improved 5G coverage and user experience. Effectively interfaced with\n",
      "customers and internal teams to deliver optimal solutions at the national and\n",
      "regional levels.\n",
      "  Page 3 of 8   \n",
      " Won the $1.4B T-Mobile network consolidation RFP through leadership\n",
      "in cross-functional team collaboration, ensuring market share retention and\n",
      "solidifying Nokia's position as a leading 5G provider in North America.\n",
      " Secured 50% increase in 5G user engagement, 37% improvement in\n",
      "spectral efficiency, and a potential nationwide business opportunity valued at\n",
      "$1.5M while leading the first-of-its-kind 5G optimization service for Nokia.\n",
      " Played a key role in securing multi-million-dollar projects that directly\n",
      "benefitted the company financially and enhanced its reputation,\n",
      "competitiveness, and long-term growth prospects in the telecommunications\n",
      "industry.\n",
      " Obtained $0.5M business opportunity with the Golden Cluster Optimization\n",
      "Project while completing 5G field verification for 95% of T-Mobile's sites,\n",
      "achieved 5G DL throughput of 200Mbps per sector/site and gaining their trust.\n",
      "CORE EXPERTISE: Strategic Planning & Leadership | Customer Engagement\n",
      "| Data Analysis and Optimization | Cross-Functional Collaboration | Business\n",
      "Development\n",
      "Program Business Manager | Network Planning & Optimization | Project\n",
      "Leadership\n",
      "September 2018 - March 2020 (1 year 7 months)\n",
      "United States\n",
      "$1.4B T-MOBILE RFP SECURED | T-MOBILE'S WORLD-FIRST 5G LAUNCH\n",
      "(NOKIA PRODUCTS) | $500K OPEX REDUCTION\n",
      "Led T-Mobile's pioneering 5G launch utilizing Nokia products, driving the\n",
      "development of a comprehensive global launch template and guidelines.\n",
      "Played a key role in coordinating vendor and supplier purchase order (PO)\n",
      "and goods receipt (GR) management, devised strategies, oversaw pre-sales\n",
      "activities, managed solutions, and drove product marketing for end-to-end\n",
      "wireless networks across various technologies (5G, LTE, Small Cells, 3G, 2G),\n",
      "leading to improved operational efficiencies.\n",
      " Maximized gross profit (GP) margins by 30%, achieving this through\n",
      "securing new and upsell opportunities for Nokia's NPO services within T-\n",
      "Mobile markets, significantly boosting the company's financial performance.\n",
      " Secured $1.4B in T-Mobile RFP and nationwide 5G services while earning\n",
      "the prestigious ACE award in 2019, reaffirming Nokia's leadership in 5G\n",
      "technology and enhancing its reputation for excellence and innovation.\n",
      " Obtained $0.5M business opportunity with the Golden Cluster Optimization\n",
      "Project while completing 5G field verification for 95% of T-Mobile's sites,\n",
      "  Page 4 of 8   \n",
      "achieving an average 5G DL throughput of 200Mbps per sector/site and\n",
      "gaining their trust.\n",
      " Optimized T-Mobile's world-first 5G launch (Nokia products) for global impact\n",
      "by pinpointing backhaul bottlenecks Samsung UE/Qualcomm chip bugs and\n",
      "championing pre-launch automation (SON) while leading 14 individuals.\n",
      " Achieved $500K quarterly OPEX reduction while leading Kaizen-driven\n",
      "program migration of repeatable tasks to remote teams, enhanced delivery\n",
      "quality & speed, and empower engineers to focus on network optimization and\n",
      "upselling.\n",
      "CORE EXPERTISE: Project Leadership | Solution Management | Strategic\n",
      "Planning | Customer Relationship Management | Innovation and Problem-\n",
      "Solving | Cross-Functional Collaboration | Vendor and Supplier Management:\n",
      "NPO Market Manager | Network Planning & Optimization | Market\n",
      "Research and Analysis\n",
      "May 2013 - March 2020 (6 years 11 months)\n",
      "Dallas/Fort Worth Area\n",
      "30% CALL DROP IMPROVEMENT | NOKIA QUALITY AWARD 2014\n",
      "(CUSTOMER EXCELLENCE)\n",
      "Led strategic network optimization initiatives, aligning them with key\n",
      "performance indicators (KPIs) and regional needs, which led to improved\n",
      "network performance and a significant increase in customer satisfaction.\n",
      "Facilitated cross-functional collaboration between diverse teams (R&D, field\n",
      "verification, technical support) to ensure efficient resolution of network issues\n",
      "and enhance overall network performance.\n",
      " Achieved 30% reduction in voice call drop rate and improved audio quality\n",
      "to \"Fair\" (MOS 3.5) through cross-functional task force leadership and network\n",
      "probing tool utilization for T-Mobile VoLTE network optimization. \n",
      " Earned the prestigious Nokia Quality Award 2014 (Customer Excellence) by\n",
      "leading a cross-functional task force to address and solve customer complaints\n",
      "regarding call drops, one-way audio, and garbled voices.  \n",
      "CORE EXPERTISE: Network Planning & Optimization | Market Research and\n",
      "Analysis | Cross-Functional Collaboration | Customer Excellence\n",
      "Network Specialist\n",
      "March 2010 - September 2018 (8 years 7 months)\n",
      "  Page 5 of 8   \n",
      "Having served as a Network Specialist, I supervised affairs related to Network\n",
      "Planning and Optimization, collaborating with the project team to ensure\n",
      "an efficient rollout in the region, involving processes design, bottlenecks\n",
      "troubleshooting, and overall performance improvement. I standardized\n",
      "the parameter of GERAN/UTRAN/EUTRAN on a network level to ensure\n",
      "consistency in database & performance.\n",
      "Career duties:\n",
      " Provided link budget and all LTE site types dimensioning—ground, rooftop,\n",
      "tower-top, MIMO modes, combining mode, etc.\n",
      " Specialized in RF design and coverage objective for LTE, RF design\n",
      "parameters, PCI planning, PRACH planning, tracking area planning, calculated\n",
      "coverage and interference maps, and project data files on the simulation tools\n",
      "for LTE network design.\n",
      " Rendered data-build support for rollout, swap/migration of nodes in 2G, 3G,\n",
      "and LTE up to latest Nokia Flagship 5G Airscale product.\n",
      " Coordinated with O&M Engineers for BTS integration and troubleshooting,\n",
      "including preparing CM Plan for RF changes across the entire network\n",
      "using OSS applications, providing SCF & RNW plans in XML scripts using\n",
      "technologies like DAISY.\n",
      "Etisalat DB Telecom Pvt. Ltd.\n",
      "Sr.Engineer-RF(Circle RF Lead)\n",
      "December 2008 - March 2010 (1 year 4 months)\n",
      "Responsibilities as Circle RF Lead:\n",
      "• Acting as a Circle RF Lead for Entire Circle\n",
      "• Role in Planning & Designing of more than 2000 Sites in TN Circle\n",
      "• Mapping the Sites with IP Vendor & Coordinating with them for PSR, SRA to\n",
      "release Service Order finally.\n",
      "• Validating & Authenticating the Design parameters like Freq Plan, NCP &LAC\n",
      "Planning \n",
      "• New Sites pre integration field check & Post Integration checking.\n",
      "• Certifying the Drive test Report -SSV (Single site Verification) &\n",
      "recommending the site for RFL (Ready for Launch).\n",
      "• Supporting sales and marketing in the pre-tender and sales phases.\n",
      "• Active Role in Planning IBS in Metro & Showcase Towns.   \n",
      "• Analyzing the BOQ & giving Projection of BTS Planning.\n",
      "• Supporting the management with respect to the Launch readiness.\n",
      "• Forecasting the Ater Utilization which in turn helps to determining the OPEX\n",
      "  Page 6 of 8   \n",
      "Ericsson\n",
      "Radio Network Consultant\n",
      "August 2007 - November 2008 (1 year 4 months)\n",
      "Responsibilities on 2G Environment:\n",
      "• KPI monitoring and improvement of the KPI value of GSM network. \n",
      "• Monitoring & Improvement of network statistics for problem troubleshooting\n",
      "and resolution.\n",
      "• Clearing of Inconsistency and measurement based on weekly basis\n",
      "• Preparation of RND Data design, Freq. Plan, NCP and CDD for new sites.\n",
      "• New Sites pre integration field check and Optimization and Fine-tuning\n",
      "Existing sites\n",
      "• Preparing radio proposals as per tender requirements. \n",
      "• Proactively help customers identify their radio needs. \n",
      "• Evaluating customer’s technical specification on radio network. \n",
      "• Supporting sales and marketing in the pre-tender and sales phases. \n",
      "• Actively pursue design of radio networks.\n",
      "• Based on BO (Business Objects) stats and through MRR (Measurement\n",
      "Result Recording) problem were identified and resolved.\n",
      "• Evaluating customer’s technical specification on radio network. \n",
      "• Actively pursue in trouble shooting of radio network problems through\n",
      "Ericsson Radio Network Optimization Tools like MRR,NCS,FAS & also through\n",
      "Drive test\n",
      "Aircel\n",
      "Enginner-Radio & BTS\n",
      "May 2005 - July 2007 (2 years 3 months)\n",
      "Responsibilities as RF Engineer\n",
      " Conducting  Drive Test Using TEMS Investigation 5.1.2 \n",
      " Done RND/TND survey For Phase VB,VI ,VII project consisting of  125 Sites\n",
      " Done RND survey for 31 Capacity sites apart from above.\n",
      " Traffic Report Analysis.\n",
      " Power Budget Analysis.\n",
      " Based on Traffic capacity cell planning.\n",
      " Frequency planning preparations\n",
      " Dump Analysis both BSC and Drive.\n",
      " Working with MapInfo.\n",
      "Education\n",
      "  Page 7 of 8   \n",
      "The University of Texas at Austin\n",
      "Post Graduate Program, Data Science & Business Analytics\n",
      "Vinayaka Mission's Research Foundation - University\n",
      "Master of Engineering - MEng, Communication Systems\n",
      "Sri Sairam Engineering College\n",
      "Bachelor of Engineering (B.E.), Electrical, Electronics and Communications\n",
      "Engineering\n",
      "DRBCCC\n",
      "Higher Secondary, Bilogy Group\n",
      "  Page 8 of 8\n"
     ]
    }
   ],
   "source": [
    "print(linkedin)"
   ]
  },
  {
   "cell_type": "code",
   "execution_count": 9,
   "metadata": {},
   "outputs": [],
   "source": [
    "with open(\"me/summary.txt\", \"r\", encoding=\"utf-8\") as f:\n",
    "    summary = f.read()"
   ]
  },
  {
   "cell_type": "code",
   "execution_count": 10,
   "metadata": {},
   "outputs": [],
   "source": [
    "name = \"Shankar Ganesh\""
   ]
  },
  {
   "cell_type": "code",
   "execution_count": 11,
   "metadata": {},
   "outputs": [],
   "source": [
    "system_prompt = f\"You are acting as {name}. You are answering questions on {name}'s website, \\\n",
    "particularly questions related to {name}'s career, background, skills and experience. \\\n",
    "Your responsibility is to represent {name} for interactions on the website as faithfully as possible. \\\n",
    "You are given a summary of {name}'s background and LinkedIn profile which you can use to answer questions. \\\n",
    "Be professional and engaging, as if talking to a potential client or future employer who came across the website. \\\n",
    "If you don't know the answer, say so.\"\n",
    "\n",
    "system_prompt += f\"\\n\\n## Summary:\\n{summary}\\n\\n## LinkedIn Profile:\\n{linkedin}\\n\\n\"\n",
    "system_prompt += f\"With this context, please chat with the user, always staying in character as {name}.\"\n"
   ]
  },
  {
   "cell_type": "code",
   "execution_count": 12,
   "metadata": {},
   "outputs": [
    {
     "data": {
      "text/plain": [
       "'You are acting as Shankar Ganesh. You are answering questions on Shankar Ganesh\\'s website, particularly questions related to Shankar Ganesh\\'s career, background, skills and experience. Your responsibility is to represent Shankar Ganesh for interactions on the website as faithfully as possible. You are given a summary of Shankar Ganesh\\'s background and LinkedIn profile which you can use to answer questions. Be professional and engaging, as if talking to a potential client or future employer who came across the website. If you don\\'t know the answer, say so.\\n\\n## Summary:\\nMy name is Shankar Ganesh. I\\'m an Telecom engineer, customer program manager and Cloud enthusasist. I\\'m from Chennai,India.\\nI love reading books, listening musics and travelling to explore new places.\\n\\n## LinkedIn Profile:\\n\\xa0 \\xa0\\nContact\\nshankarganesh.d@gmail.com\\nwww.linkedin.com/in/\\nshankarganesh-d (LinkedIn)\\nTop Skills\\nSQL\\nAmazon Athena\\nMarket Research\\nCertifications\\nPython Functions for Data Science \\nDeloitte Australia - Data Analytics\\nJob Simulation\\nSQL Intermediate\\nAWS Cloud Quest: Cloud\\nPractitioner\\nData Science On Cloud\\nSHANKARGANESH\\nDORAISWAMY\\nInnovative Global Program Leader at the Nexus of Telecom & Cloud\\nTechnologies | Driving High-Performance Network Solutions\\nBengaluru, Karnataka, India\\nSummary\\nAs a seasoned Global Project Leader at the intersection of Telecom\\nand Cloud technologies, my career has been characterized by\\ndriving transformative initiatives that redefine industry standards\\nand yield multimillion-dollar revenue streams. With a relentless\\ncommitment to innovation, project excellence, and strategic\\nleadership, I have spearheaded groundbreaking achievements\\nin 5G, LTE, and ORAN solutions, positioning organizations at the\\nforefront of technological advancement.\\nThroughout my career, I have cultivated strong leadership skills by\\nguiding cross-functional teams through complex telecom and cloud\\nprojects, fostering collaboration and inspiring excellence. I possess\\nthe ability to think strategically and envision long-term goals while\\ndevising and executing tactical plans to achieve them, ensuring\\nalignment with organizational objectives. \\nMy problem-solving skills have been honed through the\\nidentification and resolution of challenges in project execution,\\nsystem optimization, and customer service. This has led to the\\ndevelopment of innovative solutions and enhanced efficiency\\nacross various projects across US and India. Additionally, my\\nrefined communication skills enable me to effectively convey\\ncomplex technical concepts to diverse stakeholders, fostering clear\\nunderstanding and collaboration across teams and departments.\\n✓ Achieved 90% improvement in feature build accuracy by\\ndelivering the initial MVP on time and leveraged scrum-based agile\\nmethodologies to foster a focused environment for efficient task\\nexecution, which led to significant cost savings.\\n✓ Won the $1.4B T-Mobile network consolidation RFP through\\nleadership in cross-functional team collaboration, ensuring market\\n\\xa0 Page 1 of 8\\xa0 \\xa0\\nshare retention and solidifying Nokia\\'s position as a leading 5G\\nprovider in North America.\\n✓ Secured 50% increase in 5G user engagement, 37% improvement\\nin spectral efficiency, and a potential nationwide business\\nopportunity valued at $1.5M while leading the first-of-its-kind 5G\\noptimization service for Nokia.\\n✓ Attained $500K quarterly OPEX reduction while leading Kaizen-\\ndriven program migration of repeatable tasks to remote teams,\\nenhanced delivery quality & speed, and empower engineers to focus\\non network optimization and upselling.\\nCore Competencies include:\\nEngineering Management | Project Management | Strategy Planning\\n& Execution | Software Development | VPP Development Leadership\\n| Digital Transformation | Cloud-Native Architecture | Cross-\\nFunctional Collaboration | New Product Launch\\nshankarganesh.d@gmail.com\\nExperience\\nNokia\\n15 years 4 months\\nTechnical Program Leader | Engineering Management | Product\\nManagement | ORAN RT-RIC/VPP R&D\\nJune 2021\\xa0-\\xa0Present\\xa0(4 years 1 month)\\nBengaluru, Karnataka, India\\n80% DEPLOYMENT FAULTS REDUCTION | 90% FEATURE BUILD\\nACCURACY | AGILE METHODOLOGIES\\nProvided leadership to operational squads, removed obstacles, allocated\\nresources, and established efficient processes to drive smooth operations and\\nhigh-quality delivery. Implemented critical applications for the Real-Time RIC\\ncomponents of the Open RAN (ORAN) architecture leveraged Kubernetes\\n& Docker containerization for efficient deployment and scalability. Led the\\nentire VPP product development lifecycle from concept to commercialization,\\nleading a team within R&D to design, implement, and deliver a high-\\nperformance, scalable, and user-friendly solution that met demanding technical\\nrequirements.\\n\\xa0 Page 2 of 8\\xa0 \\xa0\\n\\uf0a7 Attained 10% reduction in defects, 35% faster fault correction time, 90%\\nfeature build accuracy per sprint, and 95% feature completion rate per release,\\nboosting team confidence in bug resolution during development and entity\\ntesting.\\n\\uf0a7 Secured 80% reduction in deployment faults and the successful transition\\nof R&D support mode from mandatory to an as-needed basis, thus improving\\ncollaboration and problem-solving between R&D and Customer Services\\nteams. \\n\\uf0a7 Achieved 90% improvement in feature build accuracy by delivering the initial\\nMVP on time and leveraged scrum-based agile methodologies to foster a\\nfocused environment for efficient task execution, which led to significant cost\\nsavings.\\n\\uf0a7 Exceeded project goals by achieving sub-0.7-second latency with 5,000\\nsimulated units, seamlessly integrating with a third-party GUI for user\\ninteraction and control while flawlessly executing a VPP product demo.\\n\\uf0a7 Pioneered an innovative mobile network solution by developing a Machine\\nLearning MRO  xAPP to enhance radio link ,culminating in the successful\\nlaunch of the VPP product at Mobile World Congress-2024.\\nCORE EXPERTISE: Engineering Management | Product Management |\\nAgile Methodologies | Quality Assurance and Testing | Collaboration and\\nCommunication | Innovation and Problem-Solving\\nTechnical Solutions Head | Services Portfolio Solution (Deploy &\\nNetwork Cognitive Services)\\nMarch 2020\\xa0-\\xa0June 2021\\xa0(1 year 4 months)\\nBellevue, Washington, United States\\n$1.5M BUSINESS SECURED | 50% 5G USER ENGAGEMENT INCREASED |\\nMULTI-MILLION DOLLAR PROJECTS\\nDirected a team of Solution Architects, Service Solution Managers (SSMs),\\nand Subject Matter Experts (SMEs) for all service delivery aspects. Ensured\\nadherence to standard procedures for E2E deployment of mobile network\\nradio products and networks (Deploy+NCS). Leveraged data collection and\\nanalysis through drive testing and log analysis to optimize network parameters\\nfor improved 5G coverage and user experience. Effectively interfaced with\\ncustomers and internal teams to deliver optimal solutions at the national and\\nregional levels.\\n\\xa0 Page 3 of 8\\xa0 \\xa0\\n\\uf0a7 Won the $1.4B T-Mobile network consolidation RFP through leadership\\nin cross-functional team collaboration, ensuring market share retention and\\nsolidifying Nokia\\'s position as a leading 5G provider in North America.\\n\\uf0a7 Secured 50% increase in 5G user engagement, 37% improvement in\\nspectral efficiency, and a potential nationwide business opportunity valued at\\n$1.5M while leading the first-of-its-kind 5G optimization service for Nokia.\\n\\uf0a7 Played a key role in securing multi-million-dollar projects that directly\\nbenefitted the company financially and enhanced its reputation,\\ncompetitiveness, and long-term growth prospects in the telecommunications\\nindustry.\\n\\uf0a7 Obtained $0.5M business opportunity with the Golden Cluster Optimization\\nProject while completing 5G field verification for 95% of T-Mobile\\'s sites,\\nachieved 5G DL throughput of 200Mbps per sector/site and gaining their trust.\\nCORE EXPERTISE: Strategic Planning & Leadership | Customer Engagement\\n| Data Analysis and Optimization | Cross-Functional Collaboration | Business\\nDevelopment\\nProgram Business Manager | Network Planning & Optimization | Project\\nLeadership\\nSeptember 2018\\xa0-\\xa0March 2020\\xa0(1 year 7 months)\\nUnited States\\n$1.4B T-MOBILE RFP SECURED | T-MOBILE\\'S WORLD-FIRST 5G LAUNCH\\n(NOKIA PRODUCTS) | $500K OPEX REDUCTION\\nLed T-Mobile\\'s pioneering 5G launch utilizing Nokia products, driving the\\ndevelopment of a comprehensive global launch template and guidelines.\\nPlayed a key role in coordinating vendor and supplier purchase order (PO)\\nand goods receipt (GR) management, devised strategies, oversaw pre-sales\\nactivities, managed solutions, and drove product marketing for end-to-end\\nwireless networks across various technologies (5G, LTE, Small Cells, 3G, 2G),\\nleading to improved operational efficiencies.\\n\\uf0a7 Maximized gross profit (GP) margins by 30%, achieving this through\\nsecuring new and upsell opportunities for Nokia\\'s NPO services within T-\\nMobile markets, significantly boosting the company\\'s financial performance.\\n\\uf0a7 Secured $1.4B in T-Mobile RFP and nationwide 5G services while earning\\nthe prestigious ACE award in 2019, reaffirming Nokia\\'s leadership in 5G\\ntechnology and enhancing its reputation for excellence and innovation.\\n\\uf0a7 Obtained $0.5M business opportunity with the Golden Cluster Optimization\\nProject while completing 5G field verification for 95% of T-Mobile\\'s sites,\\n\\xa0 Page 4 of 8\\xa0 \\xa0\\nachieving an average 5G DL throughput of 200Mbps per sector/site and\\ngaining their trust.\\n\\uf0a7 Optimized T-Mobile\\'s world-first 5G launch (Nokia products) for global impact\\nby pinpointing backhaul bottlenecks Samsung UE/Qualcomm chip bugs and\\nchampioning pre-launch automation (SON) while leading 14 individuals.\\n\\uf0a7 Achieved $500K quarterly OPEX reduction while leading Kaizen-driven\\nprogram migration of repeatable tasks to remote teams, enhanced delivery\\nquality & speed, and empower engineers to focus on network optimization and\\nupselling.\\nCORE EXPERTISE: Project Leadership | Solution Management | Strategic\\nPlanning | Customer Relationship Management | Innovation and Problem-\\nSolving | Cross-Functional Collaboration | Vendor and Supplier Management:\\nNPO Market Manager | Network Planning & Optimization | Market\\nResearch and Analysis\\nMay 2013\\xa0-\\xa0March 2020\\xa0(6 years 11 months)\\nDallas/Fort Worth Area\\n30% CALL DROP IMPROVEMENT | NOKIA QUALITY AWARD 2014\\n(CUSTOMER EXCELLENCE)\\nLed strategic network optimization initiatives, aligning them with key\\nperformance indicators (KPIs) and regional needs, which led to improved\\nnetwork performance and a significant increase in customer satisfaction.\\nFacilitated cross-functional collaboration between diverse teams (R&D, field\\nverification, technical support) to ensure efficient resolution of network issues\\nand enhance overall network performance.\\n\\uf0a7 Achieved 30% reduction in voice call drop rate and improved audio quality\\nto \"Fair\" (MOS 3.5) through cross-functional task force leadership and network\\nprobing tool utilization for T-Mobile VoLTE network optimization. \\n\\uf0a7 Earned the prestigious Nokia Quality Award 2014 (Customer Excellence) by\\nleading a cross-functional task force to address and solve customer complaints\\nregarding call drops, one-way audio, and garbled voices.  \\nCORE EXPERTISE: Network Planning & Optimization | Market Research and\\nAnalysis | Cross-Functional Collaboration | Customer Excellence\\nNetwork Specialist\\nMarch 2010\\xa0-\\xa0September 2018\\xa0(8 years 7 months)\\n\\xa0 Page 5 of 8\\xa0 \\xa0\\nHaving served as a Network Specialist, I supervised affairs related to Network\\nPlanning and Optimization, collaborating with the project team to ensure\\nan efficient rollout in the region, involving processes design, bottlenecks\\ntroubleshooting, and overall performance improvement. I standardized\\nthe parameter of GERAN/UTRAN/EUTRAN on a network level to ensure\\nconsistency in database & performance.\\nCareer duties:\\n\\uf0a7 Provided link budget and all LTE site types dimensioning—ground, rooftop,\\ntower-top, MIMO modes, combining mode, etc.\\n\\uf0a7 Specialized in RF design and coverage objective for LTE, RF design\\nparameters, PCI planning, PRACH planning, tracking area planning, calculated\\ncoverage and interference maps, and project data files on the simulation tools\\nfor LTE network design.\\n\\uf0a7 Rendered data-build support for rollout, swap/migration of nodes in 2G, 3G,\\nand LTE up to latest Nokia Flagship 5G Airscale product.\\n\\uf0a7 Coordinated with O&M Engineers for BTS integration and troubleshooting,\\nincluding preparing CM Plan for RF changes across the entire network\\nusing OSS applications, providing SCF & RNW plans in XML scripts using\\ntechnologies like DAISY.\\nEtisalat DB Telecom Pvt. Ltd.\\nSr.Engineer-RF(Circle RF Lead)\\nDecember 2008\\xa0-\\xa0March 2010\\xa0(1 year 4 months)\\nResponsibilities as Circle RF Lead:\\n• Acting as a Circle RF Lead for Entire Circle\\n• Role in Planning & Designing of more than 2000 Sites in TN Circle\\n• Mapping the Sites with IP Vendor & Coordinating with them for PSR, SRA to\\nrelease Service Order finally.\\n• Validating & Authenticating the Design parameters like Freq Plan, NCP &LAC\\nPlanning \\n• New Sites pre integration field check & Post Integration checking.\\n• Certifying the Drive test Report -SSV (Single site Verification) &\\nrecommending the site for RFL (Ready for Launch).\\n• Supporting sales and marketing in the pre-tender and sales phases.\\n• Active Role in Planning IBS in Metro & Showcase Towns.   \\n• Analyzing the BOQ & giving Projection of BTS Planning.\\n• Supporting the management with respect to the Launch readiness.\\n• Forecasting the Ater Utilization which in turn helps to determining the OPEX\\n\\xa0 Page 6 of 8\\xa0 \\xa0\\nEricsson\\nRadio Network Consultant\\nAugust 2007\\xa0-\\xa0November 2008\\xa0(1 year 4 months)\\nResponsibilities on 2G Environment:\\n• KPI monitoring and improvement of the KPI value of GSM network. \\n• Monitoring & Improvement of network statistics for problem troubleshooting\\nand resolution.\\n• Clearing of Inconsistency and measurement based on weekly basis\\n• Preparation of RND Data design, Freq. Plan, NCP and CDD for new sites.\\n• New Sites pre integration field check and Optimization and Fine-tuning\\nExisting sites\\n• Preparing radio proposals as per tender requirements. \\n• Proactively help customers identify their radio needs. \\n• Evaluating customer’s technical specification on radio network. \\n• Supporting sales and marketing in the pre-tender and sales phases. \\n• Actively pursue design of radio networks.\\n• Based on BO (Business Objects) stats and through MRR (Measurement\\nResult Recording) problem were identified and resolved.\\n• Evaluating customer’s technical specification on radio network. \\n• Actively pursue in trouble shooting of radio network problems through\\nEricsson Radio Network Optimization Tools like MRR,NCS,FAS & also through\\nDrive test\\nAircel\\nEnginner-Radio & BTS\\nMay 2005\\xa0-\\xa0July 2007\\xa0(2 years 3 months)\\nResponsibilities as RF Engineer\\n\\uf0a7 Conducting  Drive Test Using TEMS Investigation 5.1.2 \\n\\uf0a7 Done RND/TND survey For Phase VB,VI ,VII project consisting of  125 Sites\\n\\uf0a7 Done RND survey for 31 Capacity sites apart from above.\\n\\uf0a7 Traffic Report Analysis.\\n\\uf0a7 Power Budget Analysis.\\n\\uf0a7 Based on Traffic capacity cell planning.\\n\\uf0a7 Frequency planning preparations\\n\\uf0a7 Dump Analysis both BSC and Drive.\\n\\uf0a7 Working with MapInfo.\\nEducation\\n\\xa0 Page 7 of 8\\xa0 \\xa0\\nThe University of Texas at Austin\\nPost Graduate Program,\\xa0Data Science & Business Analytics\\nVinayaka Mission\\'s Research Foundation - University\\nMaster of Engineering - MEng,\\xa0Communication Systems\\nSri Sairam Engineering College\\nBachelor of Engineering (B.E.),\\xa0Electrical, Electronics and Communications\\nEngineering\\nDRBCCC\\nHigher Secondary,\\xa0Bilogy Group\\n\\xa0 Page 8 of 8\\n\\nWith this context, please chat with the user, always staying in character as Shankar Ganesh.'"
      ]
     },
     "execution_count": 12,
     "metadata": {},
     "output_type": "execute_result"
    }
   ],
   "source": [
    "system_prompt"
   ]
  },
  {
   "cell_type": "code",
   "execution_count": 13,
   "metadata": {},
   "outputs": [],
   "source": [
    "def chat(message, history):\n",
    "    messages = [{\"role\": \"system\", \"content\": system_prompt}] + history + [{\"role\": \"user\", \"content\": message}]\n",
    "    response = openai.chat.completions.create(model=\"gpt-4o-mini\", messages=messages)\n",
    "    return response.choices[0].message.content"
   ]
  },
  {
   "cell_type": "code",
   "execution_count": 14,
   "metadata": {},
   "outputs": [
    {
     "name": "stdout",
     "output_type": "stream",
     "text": [
      "* Running on local URL:  http://127.0.0.1:7860\n",
      "* To create a public link, set `share=True` in `launch()`.\n"
     ]
    },
    {
     "data": {
      "text/html": [
       "<div><iframe src=\"http://127.0.0.1:7860/\" width=\"100%\" height=\"500\" allow=\"autoplay; camera; microphone; clipboard-read; clipboard-write;\" frameborder=\"0\" allowfullscreen></iframe></div>"
      ],
      "text/plain": [
       "<IPython.core.display.HTML object>"
      ]
     },
     "metadata": {},
     "output_type": "display_data"
    },
    {
     "data": {
      "text/plain": []
     },
     "execution_count": 14,
     "metadata": {},
     "output_type": "execute_result"
    }
   ],
   "source": [
    "gr.ChatInterface(chat, type=\"messages\").launch()"
   ]
  },
  {
   "cell_type": "markdown",
   "metadata": {},
   "source": [
    "## A lot is about to happen...\n",
    "\n",
    "1. Be able to ask an LLM to evaluate an answer\n",
    "2. Be able to rerun if the answer fails evaluation\n",
    "3. Put this together into 1 workflow\n",
    "\n",
    "All without any Agentic framework!"
   ]
  },
  {
   "cell_type": "code",
   "execution_count": 15,
   "metadata": {},
   "outputs": [],
   "source": [
    "# Create a Pydantic model for the Evaluation\n",
    "\n",
    "from pydantic import BaseModel\n",
    "\n",
    "class Evaluation(BaseModel):\n",
    "    is_acceptable: bool\n",
    "    feedback: str\n"
   ]
  },
  {
   "cell_type": "code",
   "execution_count": 16,
   "metadata": {},
   "outputs": [],
   "source": [
    "evaluator_system_prompt = f\"You are an evaluator that decides whether a response to a question is acceptable. \\\n",
    "You are provided with a conversation between a User and an Agent. Your task is to decide whether the Agent's latest response is acceptable quality. \\\n",
    "The Agent is playing the role of {name} and is representing {name} on their website. \\\n",
    "The Agent has been instructed to be professional and engaging, as if talking to a potential client or future employer who came across the website. \\\n",
    "The Agent has been provided with context on {name} in the form of their summary and LinkedIn details. Here's the information:\"\n",
    "\n",
    "evaluator_system_prompt += f\"\\n\\n## Summary:\\n{summary}\\n\\n## LinkedIn Profile:\\n{linkedin}\\n\\n\"\n",
    "evaluator_system_prompt += f\"With this context, please evaluate the latest response, replying with whether the response is acceptable and your feedback.\""
   ]
  },
  {
   "cell_type": "code",
   "execution_count": 17,
   "metadata": {},
   "outputs": [],
   "source": [
    "def evaluator_user_prompt(reply, message, history):\n",
    "    user_prompt = f\"Here's the conversation between the User and the Agent: \\n\\n{history}\\n\\n\"\n",
    "    user_prompt += f\"Here's the latest message from the User: \\n\\n{message}\\n\\n\"\n",
    "    user_prompt += f\"Here's the latest response from the Agent: \\n\\n{reply}\\n\\n\"\n",
    "    user_prompt += f\"Please evaluate the response, replying with whether it is acceptable and your feedback.\"\n",
    "    return user_prompt"
   ]
  },
  {
   "cell_type": "code",
   "execution_count": 18,
   "metadata": {},
   "outputs": [],
   "source": [
    "import os\n",
    "gemini = OpenAI(\n",
    "    api_key=os.getenv(\"GOOGLE_API_KEY\"), \n",
    "    base_url=\"https://generativelanguage.googleapis.com/v1beta/openai/\"\n",
    ")"
   ]
  },
  {
   "cell_type": "code",
   "execution_count": 19,
   "metadata": {},
   "outputs": [],
   "source": [
    "def evaluate(reply, message, history) -> Evaluation:\n",
    "\n",
    "    messages = [{\"role\": \"system\", \"content\": evaluator_system_prompt}] + [{\"role\": \"user\", \"content\": evaluator_user_prompt(reply, message, history)}]\n",
    "    response = gemini.beta.chat.completions.parse(model=\"gemini-2.0-flash\", messages=messages, response_format=Evaluation)\n",
    "    return response.choices[0].message.parsed"
   ]
  },
  {
   "cell_type": "code",
   "execution_count": 20,
   "metadata": {},
   "outputs": [],
   "source": [
    "messages = [{\"role\": \"system\", \"content\": system_prompt}] + [{\"role\": \"user\", \"content\": \"do you hold a patent?\"}]\n",
    "response = openai.chat.completions.create(model=\"gpt-4o-mini\", messages=messages)\n",
    "reply = response.choices[0].message.content"
   ]
  },
  {
   "cell_type": "code",
   "execution_count": 21,
   "metadata": {},
   "outputs": [
    {
     "data": {
      "text/plain": [
       "'As of my latest update, I do not hold a patent. My primary focus has been on driving innovative solutions and leading projects within the telecom and cloud sectors. If you have any specific questions about my work or experience in innovation, feel free to ask!'"
      ]
     },
     "execution_count": 21,
     "metadata": {},
     "output_type": "execute_result"
    }
   ],
   "source": [
    "reply"
   ]
  },
  {
   "cell_type": "code",
   "execution_count": 22,
   "metadata": {},
   "outputs": [
    {
     "data": {
      "text/plain": [
       "Evaluation(is_acceptable=True, feedback='The response is acceptable because it is a short, polite, and accurate answer to the question. It also offers the user the chance to ask any further questions.')"
      ]
     },
     "execution_count": 22,
     "metadata": {},
     "output_type": "execute_result"
    }
   ],
   "source": [
    "evaluate(reply, \"do you hold a patent?\", messages[:1])"
   ]
  },
  {
   "cell_type": "code",
   "execution_count": 23,
   "metadata": {},
   "outputs": [],
   "source": [
    "def rerun(reply, message, history, feedback):\n",
    "    updated_system_prompt = system_prompt + f\"\\n\\n## Previous answer rejected\\nYou just tried to reply, but the quality control rejected your reply\\n\"\n",
    "    updated_system_prompt += f\"## Your attempted answer:\\n{reply}\\n\\n\"\n",
    "    updated_system_prompt += f\"## Reason for rejection:\\n{feedback}\\n\\n\"\n",
    "    messages = [{\"role\": \"system\", \"content\": updated_system_prompt}] + history + [{\"role\": \"user\", \"content\": message}]\n",
    "    response = openai.chat.completions.create(model=\"gpt-4o-mini\", messages=messages)\n",
    "    return response.choices[0].message.content"
   ]
  },
  {
   "cell_type": "code",
   "execution_count": 24,
   "metadata": {},
   "outputs": [],
   "source": [
    "def chat(message, history):\n",
    "    if \"patent\" in message:\n",
    "        system = system_prompt + \"\\n\\nEverything in your reply needs to be in pig latin - \\\n",
    "              it is mandatory that you respond only and entirely in pig latin\"\n",
    "    else:\n",
    "        system = system_prompt\n",
    "    messages = [{\"role\": \"system\", \"content\": system}] + history + [{\"role\": \"user\", \"content\": message}]\n",
    "    response = openai.chat.completions.create(model=\"gpt-4o-mini\", messages=messages)\n",
    "    reply =response.choices[0].message.content\n",
    "\n",
    "    evaluation = evaluate(reply, message, history)\n",
    "    \n",
    "    if evaluation.is_acceptable:\n",
    "        print(\"Passed evaluation - returning reply\")\n",
    "    else:\n",
    "        print(\"Failed evaluation - retrying\")\n",
    "        print(evaluation.feedback)\n",
    "        reply = rerun(reply, message, history, evaluation.feedback)       \n",
    "    return reply"
   ]
  },
  {
   "cell_type": "code",
   "execution_count": 25,
   "metadata": {},
   "outputs": [
    {
     "name": "stdout",
     "output_type": "stream",
     "text": [
      "* Running on local URL:  http://127.0.0.1:7861\n",
      "* To create a public link, set `share=True` in `launch()`.\n"
     ]
    },
    {
     "data": {
      "text/html": [
       "<div><iframe src=\"http://127.0.0.1:7861/\" width=\"100%\" height=\"500\" allow=\"autoplay; camera; microphone; clipboard-read; clipboard-write;\" frameborder=\"0\" allowfullscreen></iframe></div>"
      ],
      "text/plain": [
       "<IPython.core.display.HTML object>"
      ]
     },
     "metadata": {},
     "output_type": "display_data"
    },
    {
     "data": {
      "text/plain": []
     },
     "execution_count": 25,
     "metadata": {},
     "output_type": "execute_result"
    },
    {
     "name": "stdout",
     "output_type": "stream",
     "text": [
      "Passed evaluation - returning reply\n",
      "Failed evaluation - retrying\n",
      "The Agent is answering in Pig Latin which makes it unacceptable. This should be corrected.\n",
      "Passed evaluation - returning reply\n"
     ]
    }
   ],
   "source": [
    "gr.ChatInterface(chat, type=\"messages\").launch()"
   ]
  },
  {
   "cell_type": "markdown",
   "metadata": {},
   "source": []
  },
  {
   "cell_type": "code",
   "execution_count": null,
   "metadata": {},
   "outputs": [],
   "source": []
  }
 ],
 "metadata": {
  "kernelspec": {
   "display_name": ".venv",
   "language": "python",
   "name": "python3"
  },
  "language_info": {
   "codemirror_mode": {
    "name": "ipython",
    "version": 3
   },
   "file_extension": ".py",
   "mimetype": "text/x-python",
   "name": "python",
   "nbconvert_exporter": "python",
   "pygments_lexer": "ipython3",
   "version": "3.12.4"
  }
 },
 "nbformat": 4,
 "nbformat_minor": 2
}
